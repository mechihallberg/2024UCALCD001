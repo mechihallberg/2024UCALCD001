{
  "nbformat": 4,
  "nbformat_minor": 0,
  "metadata": {
    "colab": {
      "provenance": [],
      "toc_visible": true,
      "authorship_tag": "ABX9TyP7uQno4ls0YBo9OUhZcYrH",
      "include_colab_link": true
    },
    "kernelspec": {
      "name": "python3",
      "display_name": "Python 3"
    },
    "language_info": {
      "name": "python"
    }
  },
  "cells": [
    {
      "cell_type": "markdown",
      "metadata": {
        "id": "view-in-github",
        "colab_type": "text"
      },
      "source": [
        "<a href=\"https://colab.research.google.com/github/mechihallberg/2024UCALCD001/blob/main/E03_Mercedes_Hallberg.ipynb\" target=\"_parent\"><img src=\"https://colab.research.google.com/assets/colab-badge.svg\" alt=\"Open In Colab\"/></a>"
      ]
    },
    {
      "cell_type": "code",
      "execution_count": null,
      "metadata": {
        "id": "TebdS1oBOVT6"
      },
      "outputs": [],
      "source": []
    },
    {
      "cell_type": "code",
      "source": [],
      "metadata": {
        "id": "Yq0h7XdQOoB2"
      },
      "execution_count": null,
      "outputs": []
    },
    {
      "cell_type": "markdown",
      "source": [
        "El objetivo será que los estudiantes puedan visualizar y comprender\n",
        "la distribución de valores en un conjunto de datos bidimensional y\n",
        "apreciar, además de la utilidad de las representaciones gráficas, el\n",
        "trabajo de desarrollo de un proyecto en el entorno de un Notebook\n",
        "con cotrol de versiones en GIT.\n",
        "**Contexto del ejercicio:**\n",
        "Imagina que trabajas para una empresa que se dedica a la exploración\n",
        "y extracción de recursos naturales. Tu equipo ha estado realizando\n",
        "estudios geológicos en una región montañosa para identificar posibles\n",
        "áreas ricas en minerales valiosos. Durante las exploraciones, se han\n",
        "recolectado muestras de roca en diferentes puntos de coordenadas (x,\n",
        "y) y se ha medido la concentración de un mineral específico en cada\n",
        "una de estas muestras.\n",
        "[10, 10.625, 12.5, 15.625, 20, 40] \\\n",
        "[5.625, 6.25, 8.125, 11.25, 15.625, 26.11] \\\n",
        "[2.5, 3.125, 5.0, 8.125, 12.5, 12.005] \\\n",
        "[0.625, 1.25, 3.125, 6.25, 10.625, 23.34] \\\n",
        "[0, 0.625, 2.5, 5.625, 10, 12.89] \\\n",
        "Tu tarea es analizar los datos de concentración del mineral y crear\n",
        "una visualización que permita identificar las áreas más prometedoras\n",
        "para la extracción. Para ello, utilizarás un gráfico de contorno,\n",
        "que te permitirá representar la distribución de las concentraciones\n",
        "del mineral en todo el área de estudio."
      ],
      "metadata": {
        "id": "zq2F0spNO_Qu"
      }
    },
    {
      "cell_type": "code",
      "source": [
        "import plotly.graph_objs as go\n",
        "from plotly.offline import iplot"
      ],
      "metadata": {
        "id": "Y6Hv5nRyR_C-"
      },
      "execution_count": null,
      "outputs": []
    },
    {
      "cell_type": "markdown",
      "source": [
        "**Listas** de Datos de ejemplo para el gráfico y definición de valores\n",
        "para las coordenadas."
      ],
      "metadata": {
        "id": "BQsqJGNfS_QW"
      }
    },
    {
      "cell_type": "code",
      "source": [
        "coordenadas_x = [0, 1, 2, 3, 4]\n",
        "coordenadas_y = [0, 1, 2, 3, 4]\n",
        "concentraciones = [[10, 10.625, 12.5, 15.625, 20],\n",
        " [5.625, 6.25, 8.125, 11.25, 15.625],\n",
        " [2.5, 3.125, 5.0, 8.125, 12.5],\n",
        " [0.625, 1.25, 3.125, 6.25, 10.625],\n",
        " [0, 0.625, 2.5, 5.625, 10]]"
      ],
      "metadata": {
        "id": "_8pQemXITAE9"
      },
      "execution_count": null,
      "outputs": []
    },
    {
      "cell_type": "markdown",
      "source": [
        "**Configuración del Gráfico:** \\\n",
        "Esta Sección configura los parámetros para indicarle al\n",
        "**Framework**, *Dash* cómo crear el gráfico de contorno con la\n",
        "*Objeto* **iplot**."
      ],
      "metadata": {
        "id": "TE-DZE3jTO6e"
      }
    },
    {
      "cell_type": "code",
      "source": [
        "data = [go.Contour(\n",
        " x=coordenadas_x,\n",
        " y=coordenadas_y,\n",
        " z=concentraciones,\n",
        " colorscale='Viridis'\n",
        ")]\n",
        "# Crear la figura y mostrar el gráfico\n",
        "fig = go.Figure(data=data)\n",
        "iplot(fig)"
      ],
      "metadata": {
        "id": "JakChnITTSG_"
      },
      "execution_count": null,
      "outputs": []
    }
  ]
}