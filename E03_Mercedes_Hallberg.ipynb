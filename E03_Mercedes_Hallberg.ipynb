{
  "nbformat": 4,
  "nbformat_minor": 0,
  "metadata": {
    "colab": {
      "provenance": [],
      "toc_visible": true,
      "authorship_tag": "ABX9TyMR1OMIW7rWiVCDyUstmjxH",
      "include_colab_link": true
    },
    "kernelspec": {
      "name": "python3",
      "display_name": "Python 3"
    },
    "language_info": {
      "name": "python"
    }
  },
  "cells": [
    {
      "cell_type": "markdown",
      "metadata": {
        "id": "view-in-github",
        "colab_type": "text"
      },
      "source": [
        "<a href=\"https://colab.research.google.com/github/mechihallberg/2024UCALCD001/blob/main/E03_Mercedes_Hallberg.ipynb\" target=\"_parent\"><img src=\"https://colab.research.google.com/assets/colab-badge.svg\" alt=\"Open In Colab\"/></a>"
      ]
    },
    {
      "cell_type": "code",
      "execution_count": null,
      "metadata": {
        "id": "TebdS1oBOVT6"
      },
      "outputs": [],
      "source": []
    },
    {
      "cell_type": "markdown",
      "source": [
        "El objetivo será que los estudiantes puedan visualizar y comprender la distribución de valores en un conjunto de datos bidimensional y apreciar, además de la utilidad de las representaciones gráficas, el trabajo de desarrollo de un proyecto en el entorno de un Notebook con cotrol de versiones en GIT. **Contexto del ejercicio:** Imagina que trabajas para una empresa que se dedica a la exploración y extracción de recursos naturales. Tu equipo ha estado realizando estudios geológicos en una región montañosa para identificar posibles áreas ricas en minerales valiosos. Durante las exploraciones, se han recolectado muestras de roca en diferentes puntos de coordenadas (x, y) y se ha medido la concentración de un mineral específico en cada una de estas muestras. [10, 10.625, 12.5, 15.625, 20, 40] \\ [5.625, 6.25, 8.125, 11.25, 15.625, 26.11] \\ [2.5, 3.125, 5.0, 8.125, 12.5, 12.005] \\ [0.625, 1.25, 3.125, 6.25, 10.625, 23.34] \\ [0, 0.625, 2.5, 5.625, 10, 12.89] \\ Tu tarea es analizar los datos de concentración del mineral y crear una visualización que permita identificar las áreas más prometedoras para la extracción. Para ello, utilizarás un gráfico de contorno, que te permitirá representar la distribución de las concentraciones del mineral en todo el área de estudio."
      ],
      "metadata": {
        "id": "zq2F0spNO_Qu"
      }
    }
  ]
}